{
 "cells": [
  {
   "cell_type": "code",
   "execution_count": 1,
   "metadata": {},
   "outputs": [],
   "source": [
    "# MATH80629 Project\n",
    "# Alban Delerue\n",
    "# Fall 2020"
   ]
  },
  {
   "cell_type": "markdown",
   "metadata": {},
   "source": [
    "# <font color = \"red\"> Tweet Classification </font>"
   ]
  },
  {
   "cell_type": "code",
   "execution_count": 11,
   "metadata": {},
   "outputs": [],
   "source": [
    "# import of necessary packages\n",
    "import numpy as np\n",
    "import pandas as pd\n",
    "import nltk\n",
    "import time\n",
    "import subprocess\n",
    "import sys\n",
    "import re\n",
    "\n",
    "from sklearn.model_selection import train_test_split\n",
    "from sklearn.metrics import classification_report\n",
    "from sklearn.metrics import confusion_matrix\n",
    "\n",
    "import seaborn as sns\n",
    "import matplotlib.pyplot as plt\n",
    "%matplotlib inline\n",
    "\n",
    "import winsound"
   ]
  },
  {
   "cell_type": "code",
   "execution_count": 4,
   "metadata": {},
   "outputs": [],
   "source": [
    "train = pd.read_csv('Corona_NLP_train.csv', encoding = \"ISO-8859-1\")"
   ]
  },
  {
   "cell_type": "code",
   "execution_count": 5,
   "metadata": {},
   "outputs": [],
   "source": [
    "test = pd.read_csv('Corona_NLP_test.csv', encoding = \"ISO-8859-1\")['OriginalTweet']\n",
    "y_test = pd.read_csv('Corona_NLP_test.csv', encoding = \"ISO-8859-1\")['Sentiment']"
   ]
  },
  {
   "cell_type": "markdown",
   "metadata": {},
   "source": [
    "## Exploratory Data Analysis"
   ]
  },
  {
   "cell_type": "code",
   "execution_count": 8,
   "metadata": {},
   "outputs": [
    {
     "name": "stdout",
     "output_type": "stream",
     "text": [
      "<class 'pandas.core.frame.DataFrame'>\n",
      "RangeIndex: 41157 entries, 0 to 41156\n",
      "Data columns (total 6 columns):\n",
      " #   Column         Non-Null Count  Dtype \n",
      "---  ------         --------------  ----- \n",
      " 0   UserName       41157 non-null  int64 \n",
      " 1   ScreenName     41157 non-null  int64 \n",
      " 2   Location       32567 non-null  object\n",
      " 3   TweetAt        41157 non-null  object\n",
      " 4   OriginalTweet  41157 non-null  object\n",
      " 5   Sentiment      41157 non-null  object\n",
      "dtypes: int64(2), object(4)\n",
      "memory usage: 1.9+ MB\n"
     ]
    }
   ],
   "source": [
    "train.info()"
   ]
  },
  {
   "cell_type": "code",
   "execution_count": 9,
   "metadata": {},
   "outputs": [
    {
     "data": {
      "text/html": [
       "<div>\n",
       "<style scoped>\n",
       "    .dataframe tbody tr th:only-of-type {\n",
       "        vertical-align: middle;\n",
       "    }\n",
       "\n",
       "    .dataframe tbody tr th {\n",
       "        vertical-align: top;\n",
       "    }\n",
       "\n",
       "    .dataframe thead th {\n",
       "        text-align: right;\n",
       "    }\n",
       "</style>\n",
       "<table border=\"1\" class=\"dataframe\">\n",
       "  <thead>\n",
       "    <tr style=\"text-align: right;\">\n",
       "      <th></th>\n",
       "      <th>UserName</th>\n",
       "      <th>ScreenName</th>\n",
       "      <th>Location</th>\n",
       "      <th>TweetAt</th>\n",
       "      <th>OriginalTweet</th>\n",
       "      <th>Sentiment</th>\n",
       "    </tr>\n",
       "  </thead>\n",
       "  <tbody>\n",
       "    <tr>\n",
       "      <th>0</th>\n",
       "      <td>3799</td>\n",
       "      <td>48751</td>\n",
       "      <td>London</td>\n",
       "      <td>16-03-2020</td>\n",
       "      <td>@MeNyrbie @Phil_Gahan @Chrisitv https://t.co/i...</td>\n",
       "      <td>Neutral</td>\n",
       "    </tr>\n",
       "    <tr>\n",
       "      <th>1</th>\n",
       "      <td>3800</td>\n",
       "      <td>48752</td>\n",
       "      <td>UK</td>\n",
       "      <td>16-03-2020</td>\n",
       "      <td>advice Talk to your neighbours family to excha...</td>\n",
       "      <td>Positive</td>\n",
       "    </tr>\n",
       "    <tr>\n",
       "      <th>2</th>\n",
       "      <td>3801</td>\n",
       "      <td>48753</td>\n",
       "      <td>Vagabonds</td>\n",
       "      <td>16-03-2020</td>\n",
       "      <td>Coronavirus Australia: Woolworths to give elde...</td>\n",
       "      <td>Positive</td>\n",
       "    </tr>\n",
       "    <tr>\n",
       "      <th>3</th>\n",
       "      <td>3802</td>\n",
       "      <td>48754</td>\n",
       "      <td>NaN</td>\n",
       "      <td>16-03-2020</td>\n",
       "      <td>My food stock is not the only one which is emp...</td>\n",
       "      <td>Positive</td>\n",
       "    </tr>\n",
       "    <tr>\n",
       "      <th>4</th>\n",
       "      <td>3803</td>\n",
       "      <td>48755</td>\n",
       "      <td>NaN</td>\n",
       "      <td>16-03-2020</td>\n",
       "      <td>Me, ready to go at supermarket during the #COV...</td>\n",
       "      <td>Extremely Negative</td>\n",
       "    </tr>\n",
       "  </tbody>\n",
       "</table>\n",
       "</div>"
      ],
      "text/plain": [
       "   UserName  ScreenName   Location     TweetAt  \\\n",
       "0      3799       48751     London  16-03-2020   \n",
       "1      3800       48752         UK  16-03-2020   \n",
       "2      3801       48753  Vagabonds  16-03-2020   \n",
       "3      3802       48754        NaN  16-03-2020   \n",
       "4      3803       48755        NaN  16-03-2020   \n",
       "\n",
       "                                       OriginalTweet           Sentiment  \n",
       "0  @MeNyrbie @Phil_Gahan @Chrisitv https://t.co/i...             Neutral  \n",
       "1  advice Talk to your neighbours family to excha...            Positive  \n",
       "2  Coronavirus Australia: Woolworths to give elde...            Positive  \n",
       "3  My food stock is not the only one which is emp...            Positive  \n",
       "4  Me, ready to go at supermarket during the #COV...  Extremely Negative  "
      ]
     },
     "execution_count": 9,
     "metadata": {},
     "output_type": "execute_result"
    }
   ],
   "source": [
    "train.head()"
   ]
  },
  {
   "cell_type": "code",
   "execution_count": 10,
   "metadata": {},
   "outputs": [
    {
     "data": {
      "text/plain": [
       "(array([0, 1, 2, 3, 4]),\n",
       " [Text(0, 0, 'Neutral'),\n",
       "  Text(1, 0, 'Positive'),\n",
       "  Text(2, 0, 'Extremely Negative'),\n",
       "  Text(3, 0, 'Negative'),\n",
       "  Text(4, 0, 'Extremely Positive')])"
      ]
     },
     "execution_count": 10,
     "metadata": {},
     "output_type": "execute_result"
    },
    {
     "data": {
      "image/png": "[encoded data removed]",
      "text/plain": [
       "<Figure size 432x288 with 1 Axes>"
      ]
     },
     "metadata": {
      "needs_background": "light"
     },
     "output_type": "display_data"
    }
   ],
   "source": [
    "sns.countplot(x='Sentiment', data=train)\n",
    "plt.xticks(rotation = 45)"
   ]
  },
  {
   "cell_type": "code",
   "execution_count": 11,
   "metadata": {},
   "outputs": [
    {
     "data": {
      "text/plain": [
       "<AxesSubplot:ylabel='Frequency'>"
      ]
     },
     "execution_count": 11,
     "metadata": {},
     "output_type": "execute_result"
    },
    {
     "data": {
      "image/png": "[encoded data removed]",
      "text/plain": [
       "<Figure size 432x288 with 1 Axes>"
      ]
     },
     "metadata": {
      "needs_background": "light"
     },
     "output_type": "display_data"
    }
   ],
   "source": [
    "# Length of the tweets\n",
    "train['OriginalTweet'].apply(len).plot(bins=40, kind='hist') "
   ]
  },
  {
   "cell_type": "code",
   "execution_count": 12,
   "metadata": {},
   "outputs": [],
   "source": [
    "# Benchmark:"
   ]
  },
  {
   "cell_type": "code",
   "execution_count": 13,
   "metadata": {},
   "outputs": [
    {
     "data": {
      "text/plain": [
       "Sentiment\n",
       "Extremely Negative     5481\n",
       "Extremely Positive     6624\n",
       "Negative               9917\n",
       "Neutral                7713\n",
       "Positive              11422\n",
       "Name: UserName, dtype: int64"
      ]
     },
     "execution_count": 13,
     "metadata": {},
     "output_type": "execute_result"
    }
   ],
   "source": [
    "train.groupby(\"Sentiment\")[\"UserName\"].count()\n",
    "# The accuracy of a model that predicts \"Positive\" as the sentiment of every example will be 0.28%."
   ]
  },
  {
   "cell_type": "code",
   "execution_count": 14,
   "metadata": {},
   "outputs": [
    {
     "data": {
      "text/plain": [
       "Positive              27.75\n",
       "Negative              24.10\n",
       "Neutral               18.74\n",
       "Extremely Positive    16.09\n",
       "Extremely Negative    13.32\n",
       "Name: Sentiment, dtype: float64"
      ]
     },
     "execution_count": 14,
     "metadata": {},
     "output_type": "execute_result"
    }
   ],
   "source": [
    "# Percentage of each category\n",
    "round(train[\"Sentiment\"].value_counts(normalize = True) * 100, 2)"
   ]
  },
  {
   "cell_type": "code",
   "execution_count": 15,
   "metadata": {},
   "outputs": [],
   "source": [
    "# Split the train dataset into train and validation datasets:"
   ]
  },
  {
   "cell_type": "code",
   "execution_count": 89,
   "metadata": {},
   "outputs": [],
   "source": [
    "from sklearn.model_selection import train_test_split"
   ]
  },
  {
   "cell_type": "code",
   "execution_count": 6,
   "metadata": {},
   "outputs": [],
   "source": [
    "train, validation, y_train, y_validation = train_test_split(train['OriginalTweet'],train['Sentiment'],\n",
    "                                                            test_size = 0.4, random_state=1234)"
   ]
  },
  {
   "cell_type": "markdown",
   "metadata": {},
   "source": [
    "## Text Cleaning & Preprocessing"
   ]
  },
  {
   "cell_type": "code",
   "execution_count": 18,
   "metadata": {},
   "outputs": [],
   "source": [
    "# Convert strings to lowercase:"
   ]
  },
  {
   "cell_type": "code",
   "execution_count": 7,
   "metadata": {},
   "outputs": [],
   "source": [
    "train = train.str.lower()\n",
    "validation = validation.str.lower()\n",
    "test = test.str.lower()"
   ]
  },
  {
   "cell_type": "code",
   "execution_count": 26,
   "metadata": {},
   "outputs": [],
   "source": [
    "# Remove Urls and HTML links:"
   ]
  },
  {
   "cell_type": "code",
   "execution_count": 13,
   "metadata": {},
   "outputs": [],
   "source": [
    "def remove_urls(text3):\n",
    "    url = re.compile(r'https?://\\S+|www\\.\\S+')\n",
    "    return url.sub(r'', text3)"
   ]
  },
  {
   "cell_type": "code",
   "execution_count": 14,
   "metadata": {},
   "outputs": [],
   "source": [
    "def remove_html(text4):\n",
    "    html=re.compile(r'<.*?>')\n",
    "    return html.sub(r'',text4)"
   ]
  },
  {
   "cell_type": "code",
   "execution_count": 15,
   "metadata": {},
   "outputs": [],
   "source": [
    "train = train.apply(remove_urls)\n",
    "train = train.apply(remove_html)\n",
    "\n",
    "validation = validation.apply(remove_urls)\n",
    "validation = validation.apply(remove_html)\n",
    "\n",
    "test = test.apply(remove_urls)\n",
    "test = test.apply(remove_html)"
   ]
  },
  {
   "cell_type": "code",
   "execution_count": 21,
   "metadata": {},
   "outputs": [],
   "source": [
    "# !pip install emoji\n",
    "# !pip install emot\n",
    "# Allows to translate emojis and emoticons into text describing the emotion behind it\n",
    "try:\n",
    "    import emoji\n",
    "except ImportError:\n",
    "    subprocess.check_call([sys.executable, \"-m\", \"pip\", \"install\", 'emoji', \"emot\"])\n",
    "finally:\n",
    "    import emoji, emot"
   ]
  },
  {
   "cell_type": "code",
   "execution_count": 92,
   "metadata": {},
   "outputs": [],
   "source": [
    "from emot.emo_unicode import UNICODE_EMO, EMOTICONS"
   ]
  },
  {
   "cell_type": "code",
   "execution_count": 93,
   "metadata": {},
   "outputs": [],
   "source": [
    "def emojis_to_word(text1):\n",
    "    for emot in UNICODE_EMO:\n",
    "        text1 = text1.replace(emot, \"_\".join(UNICODE_EMO[emot].\n",
    "                                             replace(\",\",\"\").replace(\":\",\"\").split()))\n",
    "    return text1"
   ]
  },
  {
   "cell_type": "code",
   "execution_count": 94,
   "metadata": {},
   "outputs": [],
   "source": [
    "def emoticons_to_word(text2):\n",
    "    for emot in EMOTICONS:\n",
    "        text2 = re.sub(u'('+emot+')', \"_\".join(EMOTICONS[emot].\n",
    "                                               replace(\",\",\"\").split()), text2)\n",
    "    return text2"
   ]
  },
  {
   "cell_type": "code",
   "execution_count": 95,
   "metadata": {},
   "outputs": [],
   "source": [
    "train = train.apply(emojis_to_word)\n",
    "train = train.apply(emoticons_to_word)\n",
    "\n",
    "test = test.apply(emojis_to_word)\n",
    "test = test.apply(emoticons_to_word)\n",
    "\n",
    "validation = validation.apply(emojis_to_word)\n",
    "validation = validation.apply(emoticons_to_word)"
   ]
  },
  {
   "cell_type": "code",
   "execution_count": 30,
   "metadata": {},
   "outputs": [],
   "source": [
    "# Remove digits:"
   ]
  },
  {
   "cell_type": "code",
   "execution_count": 16,
   "metadata": {},
   "outputs": [],
   "source": [
    "def remove_digits(text5):\n",
    "    text5 = re.sub(r\"\\d+\\S+\", ' ', text5)\n",
    "    return text5"
   ]
  },
  {
   "cell_type": "code",
   "execution_count": 17,
   "metadata": {},
   "outputs": [],
   "source": [
    "train = train.apply(remove_digits)\n",
    "validation = validation.apply(remove_digits)\n",
    "test = test.apply(remove_digits)"
   ]
  },
  {
   "cell_type": "code",
   "execution_count": 33,
   "metadata": {},
   "outputs": [],
   "source": [
    "# Remove peoples' usernames:"
   ]
  },
  {
   "cell_type": "code",
   "execution_count": 18,
   "metadata": {},
   "outputs": [],
   "source": [
    "def remove_usernames(text6):\n",
    "    text6 = re.sub(r\"@\\w+\", ' ', text6)\n",
    "    return text6"
   ]
  },
  {
   "cell_type": "code",
   "execution_count": 19,
   "metadata": {},
   "outputs": [],
   "source": [
    "train = train.apply(remove_usernames)\n",
    "validation = validation.apply(remove_usernames)\n",
    "test = test.apply(remove_usernames)"
   ]
  },
  {
   "cell_type": "code",
   "execution_count": 36,
   "metadata": {},
   "outputs": [],
   "source": [
    "# Remove the punctuation:"
   ]
  },
  {
   "cell_type": "code",
   "execution_count": 20,
   "metadata": {},
   "outputs": [],
   "source": [
    "import string"
   ]
  },
  {
   "cell_type": "code",
   "execution_count": 21,
   "metadata": {},
   "outputs": [],
   "source": [
    "def remove_punctuation(text7):\n",
    "    text7 = ''.join([char for char in text7 if char not in string.punctuation])\n",
    "    return text7"
   ]
  },
  {
   "cell_type": "code",
   "execution_count": 22,
   "metadata": {},
   "outputs": [],
   "source": [
    "train = train.apply(remove_punctuation)\n",
    "validation = validation.apply(remove_punctuation)\n",
    "test = test.apply(remove_punctuation)"
   ]
  },
  {
   "cell_type": "code",
   "execution_count": 40,
   "metadata": {},
   "outputs": [],
   "source": [
    "# Remove stop words:"
   ]
  },
  {
   "cell_type": "code",
   "execution_count": 25,
   "metadata": {},
   "outputs": [
    {
     "name": "stderr",
     "output_type": "stream",
     "text": [
      "[nltk_data] Downloading package stopwords to\n",
      "[nltk_data]     C:\\Users\\albdl\\AppData\\Roaming\\nltk_data...\n",
      "[nltk_data]   Package stopwords is already up-to-date!\n"
     ]
    },
    {
     "data": {
      "text/plain": [
       "True"
      ]
     },
     "execution_count": 25,
     "metadata": {},
     "output_type": "execute_result"
    }
   ],
   "source": [
    "from nltk.corpus import stopwords\n",
    "nltk.download('stopwords')"
   ]
  },
  {
   "cell_type": "code",
   "execution_count": 26,
   "metadata": {},
   "outputs": [],
   "source": [
    "def remove_stopwords(text8):\n",
    "    text8 = \" \".join([word for word in text8.split() if word not in stopwords.words('english')])\n",
    "    return text8"
   ]
  },
  {
   "cell_type": "code",
   "execution_count": 27,
   "metadata": {},
   "outputs": [],
   "source": [
    "train = train.apply(remove_stopwords)\n",
    "validation = validation.apply(remove_stopwords)\n",
    "test = test.apply(remove_stopwords)"
   ]
  },
  {
   "cell_type": "code",
   "execution_count": 44,
   "metadata": {},
   "outputs": [],
   "source": [
    "# Replace some important words:"
   ]
  },
  {
   "cell_type": "code",
   "execution_count": 28,
   "metadata": {},
   "outputs": [],
   "source": [
    "def replace_important_words(tweet9):\n",
    "    tweet9 = re.sub(r\" usa \", \" america \", tweet9)\n",
    "    tweet9 = re.sub(r\" u s \", \" america \", tweet9)\n",
    "    tweet9 = re.sub(r\" uk \", \" england \", tweet9)\n",
    "    tweet9 = re.sub(r\" US \", \" america \", tweet9)\n",
    "    tweet9 = re.sub(r\"usagov\", \"usa government\", tweet9)\n",
    "    tweet9 = re.sub(r\"coronavirus\", \" covid19 \", tweet9)\n",
    "    return tweet9"
   ]
  },
  {
   "cell_type": "code",
   "execution_count": 29,
   "metadata": {},
   "outputs": [],
   "source": [
    "train = train.apply(replace_important_words)\n",
    "validation = validation.apply(replace_important_words)\n",
    "test = test.apply(replace_important_words)"
   ]
  },
  {
   "cell_type": "code",
   "execution_count": 30,
   "metadata": {},
   "outputs": [],
   "source": [
    "# Backing up the data with a deep copy of the dataframes\n",
    "train_backup = train.copy()\n",
    "validation_backup = validation.copy()\n",
    "test_backup = test.copy()"
   ]
  },
  {
   "cell_type": "code",
   "execution_count": 48,
   "metadata": {},
   "outputs": [],
   "source": [
    "# Converting Text to Numerical Vector:"
   ]
  },
  {
   "cell_type": "code",
   "execution_count": 31,
   "metadata": {},
   "outputs": [],
   "source": [
    "from sklearn.feature_extraction.text import TfidfTransformer\n",
    "from sklearn.feature_extraction.text import TfidfVectorizer"
   ]
  },
  {
   "cell_type": "code",
   "execution_count": 32,
   "metadata": {},
   "outputs": [
    {
     "data": {
      "text/plain": [
       "TfidfVectorizer(min_df=10)"
      ]
     },
     "execution_count": 32,
     "metadata": {},
     "output_type": "execute_result"
    }
   ],
   "source": [
    "tfidf_vect = TfidfVectorizer(min_df=10)\n",
    "tfidf_vect.fit(train)"
   ]
  },
  {
   "cell_type": "code",
   "execution_count": 33,
   "metadata": {},
   "outputs": [
    {
     "name": "stdout",
     "output_type": "stream",
     "text": [
      "Train:  (24694, 4695)\n",
      "Validation:  (16463, 4695)\n",
      "Test:  (3798, 4695)\n"
     ]
    }
   ],
   "source": [
    "x_train = tfidf_vect.transform(train)\n",
    "print(\"Train: \", x_train.get_shape())\n",
    "\n",
    "x_validation = tfidf_vect.transform(validation)\n",
    "print(\"Validation: \", x_validation.get_shape())\n",
    "\n",
    "x_test = tfidf_vect.transform(test)\n",
    "print(\"Test: \", x_test.get_shape())"
   ]
  },
  {
   "cell_type": "markdown",
   "metadata": {},
   "source": [
    "## Modeling"
   ]
  },
  {
   "cell_type": "markdown",
   "metadata": {},
   "source": [
    "### 1) Support vector machine:"
   ]
  },
  {
   "cell_type": "code",
   "execution_count": 34,
   "metadata": {},
   "outputs": [],
   "source": [
    "from sklearn.svm import SVC "
   ]
  },
  {
   "cell_type": "code",
   "execution_count": 151,
   "metadata": {},
   "outputs": [
    {
     "name": "stdout",
     "output_type": "stream",
     "text": [
      "Training time: 97.044253s; Prediction time: 52.218237s\n",
      "                    precision    recall  f1-score   support\n",
      "\n",
      "Extremely Negative       0.66      0.52      0.58      2168\n",
      "Extremely Positive       0.72      0.58      0.65      2611\n",
      "          Negative       0.53      0.57      0.55      3978\n",
      "           Neutral       0.66      0.68      0.67      3162\n",
      "          Positive       0.57      0.64      0.60      4544\n",
      "\n",
      "          accuracy                           0.61     16463\n",
      "         macro avg       0.63      0.60      0.61     16463\n",
      "      weighted avg       0.61      0.61      0.61     16463\n",
      "\n"
     ]
    },
    {
     "data": {
      "image/png": "[encoded data removed]",
      "text/plain": [
       "<Figure size 432x288 with 2 Axes>"
      ]
     },
     "metadata": {
      "needs_background": "light"
     },
     "output_type": "display_data"
    }
   ],
   "source": [
    "model_SVM = SVC(kernel='linear', C=1)\n",
    "t0 = time.time()\n",
    "model_SVM.fit(x_train, y_train)\n",
    "t1 = time.time()\n",
    "\n",
    "Predictions_SVM = model_SVM.predict(x_validation)\n",
    "t2 = time.time()\n",
    "time_train = t1-t0\n",
    "time_prediction = t2-t1\n",
    "\n",
    "\n",
    "print(\"Training time: %fs; Prediction time: %fs\" % (time_train, time_prediction))\n",
    "print(classification_report(y_validation, Predictions_SVM))\n",
    "\n",
    "mat = confusion_matrix(y_validation, Predictions_SVM)\n",
    "sns.heatmap(mat.T, square = True, annot = True, fmt ='d')\n",
    "plt.xlabel('True Sentiment')\n",
    "plt.ylabel('Predicted Sentiment');\n",
    "\n",
    "winsound.Beep(1500, 1000)"
   ]
  },
  {
   "cell_type": "code",
   "execution_count": null,
   "metadata": {},
   "outputs": [],
   "source": [
    "# Find best hyperparameters by GridSearch:"
   ]
  },
  {
   "cell_type": "code",
   "execution_count": 57,
   "metadata": {},
   "outputs": [],
   "source": [
    "from sklearn.model_selection import GridSearchCV"
   ]
  },
  {
   "cell_type": "code",
   "execution_count": 58,
   "metadata": {},
   "outputs": [
    {
     "name": "stdout",
     "output_type": "stream",
     "text": [
      "{'C': 10, 'gamma': 'scale', 'kernel': 'rbf'}\n"
     ]
    }
   ],
   "source": [
    "hyperparams = {'kernel': ['rbf', 'linear' , 'poly'] , 'gamma': ['scale', 'auto'] , \n",
    "              'C': [0.1 , 1 , 10]}\n",
    "\n",
    "tuner = GridSearchCV(SVC() , hyperparams , scoring ='accuracy' , n_jobs=-1)\n",
    "tuner.fit(x_train, y_train)\n",
    "\n",
    "print(tuner.best_params_)\n",
    "winsound.Beep(1500, 1000)"
   ]
  },
  {
   "cell_type": "code",
   "execution_count": null,
   "metadata": {},
   "outputs": [],
   "source": [
    "# Model with the obtained hyperparameters:\n",
    "# for gamma, default=’scale’"
   ]
  },
  {
   "cell_type": "code",
   "execution_count": 152,
   "metadata": {},
   "outputs": [
    {
     "name": "stdout",
     "output_type": "stream",
     "text": [
      "Training time: 403.416345s; Prediction time: 60.740616s\n",
      "                    precision    recall  f1-score   support\n",
      "\n",
      "Extremely Negative       0.69      0.52      0.60      2168\n",
      "Extremely Positive       0.73      0.59      0.65      2611\n",
      "          Negative       0.54      0.57      0.56      3978\n",
      "           Neutral       0.67      0.65      0.66      3162\n",
      "          Positive       0.55      0.66      0.60      4544\n",
      "\n",
      "          accuracy                           0.61     16463\n",
      "         macro avg       0.64      0.60      0.61     16463\n",
      "      weighted avg       0.62      0.61      0.61     16463\n",
      "\n"
     ]
    },
    {
     "data": {
      "image/png": "[encoded data removed]",
      "text/plain": [
       "<Figure size 432x288 with 2 Axes>"
      ]
     },
     "metadata": {
      "needs_background": "light"
     },
     "output_type": "display_data"
    }
   ],
   "source": [
    "model_SVM = SVC(kernel='rbf', C=10)\n",
    "t0 = time.time()\n",
    "model_SVM.fit(x_train, y_train)\n",
    "t1 = time.time()\n",
    "\n",
    "Predictions_SVM = model_SVM.predict(x_validation)\n",
    "t2 = time.time()\n",
    "time_train = t1-t0\n",
    "time_prediction = t2-t1\n",
    "\n",
    "\n",
    "print(\"Training time: %fs; Prediction time: %fs\" % (time_train, time_prediction))\n",
    "print(classification_report(y_validation, Predictions_SVM))\n",
    "\n",
    "mat = confusion_matrix(y_validation, Predictions_SVM)\n",
    "sns.heatmap(mat.T, square=True, annot = True, fmt = 'd')\n",
    "plt.xlabel('True Sentiment')\n",
    "plt.ylabel('Predicted Sentiment');\n",
    "\n",
    "winsound.Beep(1500, 1000)"
   ]
  },
  {
   "cell_type": "code",
   "execution_count": null,
   "metadata": {},
   "outputs": [],
   "source": [
    "# Redefine the sentiments into 3 categories:"
   ]
  },
  {
   "cell_type": "code",
   "execution_count": 35,
   "metadata": {},
   "outputs": [],
   "source": [
    "def classes_def(category):\n",
    "    if category ==  \"Extremely Positive\" or category ==  \"Positive\" :\n",
    "        return \"Positive\"\n",
    "    elif category == \"Extremely Negative\" or category ==  \"Negative\" :      \n",
    "        return \"Negative\"\n",
    "    elif category == \"Neutral\" :\n",
    "        return \"Neutral\""
   ]
  },
  {
   "cell_type": "code",
   "execution_count": 36,
   "metadata": {},
   "outputs": [],
   "source": [
    "new_y_train = y_train.apply(lambda x:classes_def(x))\n",
    "new_y_validation = y_validation.apply(lambda x:classes_def(x))\n",
    "new_y_test = y_test.apply(lambda x:classes_def(x))"
   ]
  },
  {
   "cell_type": "code",
   "execution_count": 37,
   "metadata": {},
   "outputs": [
    {
     "name": "stdout",
     "output_type": "stream",
     "text": [
      "Training time: 366.435681s; Prediction time: 45.060211s\n",
      "              precision    recall  f1-score   support\n",
      "\n",
      "    Negative       0.78      0.79      0.79      6146\n",
      "     Neutral       0.71      0.61      0.66      3162\n",
      "    Positive       0.80      0.85      0.82      7155\n",
      "\n",
      "    accuracy                           0.78     16463\n",
      "   macro avg       0.77      0.75      0.75     16463\n",
      "weighted avg       0.78      0.78      0.78     16463\n",
      "\n"
     ]
    },
    {
     "data": {
      "image/png": "[encoded data removed]",
      "text/plain": [
       "<Figure size 432x288 with 2 Axes>"
      ]
     },
     "metadata": {
      "needs_background": "light"
     },
     "output_type": "display_data"
    }
   ],
   "source": [
    "new_model_SVM = SVC(kernel='rbf', C=10)\n",
    "t0 = time.time()\n",
    "new_model_SVM.fit(x_train, new_y_train)\n",
    "t1 = time.time()\n",
    "new_Predictions_SVM = new_model_SVM.predict(x_validation)\n",
    "t2 = time.time()\n",
    "time_train = t1-t0\n",
    "time_prediction = t2-t1\n",
    "\n",
    "print(\"Training time: %fs; Prediction time: %fs\" % (time_train, time_prediction))\n",
    "print(classification_report(new_y_validation, new_Predictions_SVM))\n",
    "\n",
    "mat = confusion_matrix(new_y_validation, new_Predictions_SVM)\n",
    "sns.heatmap(mat.T, square = True, annot = True, fmt = 'd')\n",
    "plt.xlabel('True Sentiment')\n",
    "plt.ylabel('Predicted Sentiment');\n",
    "\n",
    "winsound.Beep(1500, 1000)"
   ]
  },
  {
   "cell_type": "code",
   "execution_count": 1,
   "metadata": {},
   "outputs": [],
   "source": [
    "# Classification on the test set"
   ]
  },
  {
   "cell_type": "code",
   "execution_count": 38,
   "metadata": {},
   "outputs": [
    {
     "name": "stdout",
     "output_type": "stream",
     "text": [
      "Prediction time: 10.748824s\n",
      "              precision    recall  f1-score   support\n",
      "\n",
      "    Negative       0.78      0.77      0.77      1633\n",
      "     Neutral       0.67      0.59      0.62       619\n",
      "    Positive       0.78      0.82      0.80      1546\n",
      "\n",
      "    accuracy                           0.76      3798\n",
      "   macro avg       0.74      0.73      0.73      3798\n",
      "weighted avg       0.76      0.76      0.76      3798\n",
      "\n"
     ]
    }
   ],
   "source": [
    "t1 = time.time()\n",
    "predictions_SVM_3_test = new_model_SVM.predict(x_test)\n",
    "t2 = time.time()\n",
    "time_prediction = t2-t1a\n",
    "\n",
    "print(\"Prediction time: %fs\" % (time_prediction))\n",
    "print(classification_report(new_y_test, predictions_SVM_3_test))"
   ]
  },
  {
   "cell_type": "markdown",
   "metadata": {},
   "source": [
    "### 2) Multinomial Naive Bayes"
   ]
  },
  {
   "cell_type": "code",
   "execution_count": 63,
   "metadata": {},
   "outputs": [],
   "source": [
    "from sklearn.naive_bayes import MultinomialNB"
   ]
  },
  {
   "cell_type": "code",
   "execution_count": null,
   "metadata": {},
   "outputs": [],
   "source": [
    "# Base model with 5 classes"
   ]
  },
  {
   "cell_type": "code",
   "execution_count": 164,
   "metadata": {},
   "outputs": [
    {
     "name": "stdout",
     "output_type": "stream",
     "text": [
      "Training time: 0.060871s; Prediction time: 0.002991s\n",
      "                    precision    recall  f1-score   support\n",
      "\n",
      "Extremely Negative       0.71      0.17      0.27      2168\n",
      "Extremely Positive       0.67      0.25      0.36      2611\n",
      "          Negative       0.42      0.51      0.46      3978\n",
      "           Neutral       0.63      0.35      0.45      3162\n",
      "          Positive       0.39      0.73      0.51      4544\n",
      "\n",
      "          accuracy                           0.45     16463\n",
      "         macro avg       0.56      0.40      0.41     16463\n",
      "      weighted avg       0.53      0.45      0.43     16463\n",
      "\n"
     ]
    }
   ],
   "source": [
    "clf_NB_5classes = MultinomialNB()\n",
    "t0 = time.time()\n",
    "clf_NB_5_fit = clf_NB_5classes.fit(x_train, y_train)\n",
    "t1 = time.time()\n",
    "predictions_train_NB_5 = clf_NB_5_fit.predict(x_validation)\n",
    "t2 = time.time()\n",
    "time_train = t1-t0\n",
    "time_prediction = t2-t1\n",
    "\n",
    "print(\"Training time: %fs; Prediction time: %fs\" % (time_train, time_prediction))\n",
    "print(classification_report(y_validation, predictions_train_NB_5))"
   ]
  },
  {
   "cell_type": "code",
   "execution_count": 161,
   "metadata": {},
   "outputs": [
    {
     "data": {
      "image/png": "[encoded data removed]",
      "text/plain": [
       "<Figure size 432x288 with 2 Axes>"
      ]
     },
     "metadata": {
      "needs_background": "light"
     },
     "output_type": "display_data"
    }
   ],
   "source": [
    "mat = confusion_matrix(y_validation, predictions_train_NB_5)\n",
    "sns.heatmap(mat.T, square = True, annot = True, fmt = 'd')\n",
    "plt.xlabel('True Sentiment')\n",
    "plt.ylabel('Predicted Sentiment');"
   ]
  },
  {
   "cell_type": "code",
   "execution_count": 158,
   "metadata": {},
   "outputs": [],
   "source": [
    "# Predictions on the test set"
   ]
  },
  {
   "cell_type": "code",
   "execution_count": 156,
   "metadata": {},
   "outputs": [],
   "source": [
    "pd.set_option('display.max_colwidth', None)"
   ]
  },
  {
   "cell_type": "code",
   "execution_count": 163,
   "metadata": {},
   "outputs": [
    {
     "data": {
      "text/plain": [
       "0    trending new yorkers encounter empty supermarket shelves pictured wegmans brooklyn soldout online grocers foodkick maxdelivery  covid19 fearing shoppers stock\n",
       "Name: OriginalTweet, dtype: object"
      ]
     },
     "execution_count": 163,
     "metadata": {},
     "output_type": "execute_result"
    }
   ],
   "source": [
    "test.head(1)"
   ]
  },
  {
   "cell_type": "code",
   "execution_count": 168,
   "metadata": {},
   "outputs": [
    {
     "name": "stdout",
     "output_type": "stream",
     "text": [
      "Prediction time: 0.001962s\n",
      "                    precision    recall  f1-score   support\n",
      "\n",
      "Extremely Negative       0.71      0.14      0.24       592\n",
      "Extremely Positive       0.72      0.18      0.29       599\n",
      "          Negative       0.42      0.50      0.45      1041\n",
      "           Neutral       0.55      0.31      0.39       619\n",
      "          Positive       0.36      0.74      0.48       947\n",
      "\n",
      "          accuracy                           0.42      3798\n",
      "         macro avg       0.55      0.37      0.37      3798\n",
      "      weighted avg       0.52      0.42      0.39      3798\n",
      "\n"
     ]
    }
   ],
   "source": [
    "t1 = time.time()\n",
    "predictions_test_NB_5 = clf_NB_5_fit.predict(x_test)\n",
    "t2 = time.time()\n",
    "time_prediction = t2-t1\n",
    "\n",
    "print(\"Prediction time: %fs\" % (time_prediction))\n",
    "print(classification_report(y_test, predictions_test_NB_5))"
   ]
  },
  {
   "cell_type": "code",
   "execution_count": null,
   "metadata": {},
   "outputs": [],
   "source": [
    "# Model with only 3 categories"
   ]
  },
  {
   "cell_type": "code",
   "execution_count": 176,
   "metadata": {},
   "outputs": [
    {
     "name": "stdout",
     "output_type": "stream",
     "text": [
      "Training time: 0.058873s; Prediction time: 0.001994s\n",
      "              precision    recall  f1-score   support\n",
      "\n",
      "    Negative       0.70      0.70      0.70      6146\n",
      "     Neutral       0.72      0.16      0.26      3162\n",
      "    Positive       0.63      0.85      0.72      7155\n",
      "\n",
      "    accuracy                           0.66     16463\n",
      "   macro avg       0.68      0.57      0.56     16463\n",
      "weighted avg       0.67      0.66      0.62     16463\n",
      "\n"
     ]
    }
   ],
   "source": [
    "clf_3classes = MultinomialNB()\n",
    "t0 = time.time()\n",
    "clf_NB_3_fit = clf_3classes.fit(x_train, new_y_train)\n",
    "t1 = time.time()\n",
    "predictions_NB_3_valid = clf_NB_3_fit.predict(x_validation)\n",
    "t2 = time.time()\n",
    "time_train = t1-t0\n",
    "time_prediction = t2-t1\n",
    "\n",
    "print(\"Training time: %fs; Prediction time: %fs\" % (time_train, time_prediction))\n",
    "print(classification_report(new_y_validation, predictions_NB_3_valid))"
   ]
  },
  {
   "cell_type": "code",
   "execution_count": 178,
   "metadata": {},
   "outputs": [
    {
     "data": {
      "image/png": "[encoded data removed]",
      "text/plain": [
       "<Figure size 432x288 with 2 Axes>"
      ]
     },
     "metadata": {
      "needs_background": "light"
     },
     "output_type": "display_data"
    }
   ],
   "source": [
    "mat = confusion_matrix(new_y_validation, predictions_NB_3_valid)\n",
    "sns.heatmap(mat.T, square = True, annot = True, fmt = 'd')\n",
    "plt.xlabel('True Sentiment')\n",
    "plt.ylabel('Predicted Sentiment');"
   ]
  },
  {
   "cell_type": "code",
   "execution_count": 80,
   "metadata": {},
   "outputs": [],
   "source": [
    "# Predictions on the test set"
   ]
  },
  {
   "cell_type": "code",
   "execution_count": 180,
   "metadata": {},
   "outputs": [
    {
     "name": "stdout",
     "output_type": "stream",
     "text": [
      "Prediction time: 0.002549s\n",
      "              precision    recall  f1-score   support\n",
      "\n",
      "    Negative       0.73      0.71      0.72      1633\n",
      "     Neutral       0.61      0.13      0.21       619\n",
      "    Positive       0.63      0.84      0.72      1546\n",
      "\n",
      "    accuracy                           0.67      3798\n",
      "   macro avg       0.66      0.56      0.55      3798\n",
      "weighted avg       0.67      0.67      0.64      3798\n",
      "\n"
     ]
    }
   ],
   "source": [
    "t1 = time.time()\n",
    "predictions_NB_3_test = clf_NB_3_fit.predict(x_test)\n",
    "t2 = time.time()\n",
    "time_prediction = t2-t1\n",
    "\n",
    "print(\"Prediction time: %fs\" % (time_prediction))\n",
    "print(classification_report(new_y_test, predictions_NB_3_test))"
   ]
  },
  {
   "cell_type": "code",
   "execution_count": 181,
   "metadata": {},
   "outputs": [
    {
     "data": {
      "image/png": "[encoded data removed]",
      "text/plain": [
       "<Figure size 432x288 with 2 Axes>"
      ]
     },
     "metadata": {
      "needs_background": "light"
     },
     "output_type": "display_data"
    }
   ],
   "source": [
    "mat = confusion_matrix(new_y_test, predictions_NB_3_test)\n",
    "sns.heatmap(mat.T, square = True, annot = True, fmt = 'd')\n",
    "plt.xlabel('True Sentiment')\n",
    "plt.ylabel('Predicted Sentiment');"
   ]
  },
  {
   "cell_type": "markdown",
   "metadata": {},
   "source": [
    "### 3) Random Forest"
   ]
  },
  {
   "cell_type": "code",
   "execution_count": 66,
   "metadata": {},
   "outputs": [],
   "source": [
    "from sklearn.ensemble import RandomForestClassifier"
   ]
  },
  {
   "cell_type": "code",
   "execution_count": 67,
   "metadata": {},
   "outputs": [],
   "source": [
    "clf_randomForest = RandomForestClassifier()"
   ]
  },
  {
   "cell_type": "code",
   "execution_count": 68,
   "metadata": {},
   "outputs": [
    {
     "name": "stdout",
     "output_type": "stream",
     "text": [
      "Training time: 34.407799s; Prediction time: 0.799861s\n",
      "                    precision    recall  f1-score   support\n",
      "\n",
      "Extremely Negative       0.61      0.44      0.51      2168\n",
      "Extremely Positive       0.61      0.45      0.52      2611\n",
      "          Negative       0.47      0.43      0.45      3978\n",
      "           Neutral       0.53      0.67      0.59      3162\n",
      "          Positive       0.46      0.53      0.49      4544\n",
      "\n",
      "          accuracy                           0.51     16463\n",
      "         macro avg       0.53      0.51      0.51     16463\n",
      "      weighted avg       0.52      0.51      0.51     16463\n",
      "\n"
     ]
    }
   ],
   "source": [
    "t0 = time.time()\n",
    "clf_fit = clf_randomForest.fit(x_train, y_train)\n",
    "t1 = time.time()\n",
    "predictions = clf_fit.predict(x_validation)\n",
    "t2 = time.time()\n",
    "time_train = t1-t0\n",
    "time_prediction = t2-t1\n",
    "\n",
    "print(\"Training time: %fs; Prediction time: %fs\" % (time_train, time_prediction))\n",
    "print(classification_report(y_validation, predictions))"
   ]
  },
  {
   "cell_type": "code",
   "execution_count": null,
   "metadata": {},
   "outputs": [],
   "source": [
    "# With gridsearch"
   ]
  },
  {
   "cell_type": "code",
   "execution_count": 69,
   "metadata": {},
   "outputs": [],
   "source": [
    "# gridsearch to find best parameters\n",
    "hyperparams = {\"n_estimators\": [50, 100, 150, 200, 500, 1000],\n",
    "               \"criterion\": [\"gini\", \"entropy\"]}"
   ]
  },
  {
   "cell_type": "code",
   "execution_count": 70,
   "metadata": {},
   "outputs": [
    {
     "data": {
      "text/plain": [
       "GridSearchCV(estimator=RandomForestClassifier(), n_jobs=-1,\n",
       "             param_grid={'criterion': ['gini', 'entropy'],\n",
       "                         'n_estimators': [50, 100, 150, 200, 500, 1000]},\n",
       "             scoring='accuracy')"
      ]
     },
     "execution_count": 70,
     "metadata": {},
     "output_type": "execute_result"
    }
   ],
   "source": [
    "tuner = GridSearchCV(RandomForestClassifier(), hyperparams, scoring = \"accuracy\", n_jobs= -1)\n",
    "tuner.fit(x_train, y_train)"
   ]
  },
  {
   "cell_type": "code",
   "execution_count": 71,
   "metadata": {},
   "outputs": [
    {
     "name": "stdout",
     "output_type": "stream",
     "text": [
      "{'criterion': 'entropy', 'n_estimators': 1000}\n"
     ]
    }
   ],
   "source": [
    "print(tuner.best_params_)"
   ]
  },
  {
   "cell_type": "code",
   "execution_count": null,
   "metadata": {},
   "outputs": [],
   "source": [
    "# With best parameters, 5 classes"
   ]
  },
  {
   "cell_type": "code",
   "execution_count": 184,
   "metadata": {},
   "outputs": [
    {
     "name": "stdout",
     "output_type": "stream",
     "text": [
      "Training time: 177.696579s; Prediction time: 4.151140s\n",
      "                    precision    recall  f1-score   support\n",
      "\n",
      "Extremely Negative       0.61      0.44      0.51      2168\n",
      "Extremely Positive       0.63      0.44      0.52      2611\n",
      "          Negative       0.49      0.44      0.46      3978\n",
      "           Neutral       0.53      0.69      0.60      3162\n",
      "          Positive       0.46      0.55      0.50      4544\n",
      "\n",
      "          accuracy                           0.52     16463\n",
      "         macro avg       0.54      0.51      0.52     16463\n",
      "      weighted avg       0.53      0.52      0.52     16463\n",
      "\n"
     ]
    }
   ],
   "source": [
    "model_randomForest_5 = RandomForestClassifier(n_estimators = 500, criterion = \"gini\")\n",
    "t0 = time.time()\n",
    "model_fit_5 = model_randomForest.fit(x_train, y_train)\n",
    "t1 = time.time()\n",
    "predictions_RF_5_valid = model_fit_5.predict(x_validation)\n",
    "t2 = time.time()\n",
    "time_train = t1-t0\n",
    "time_prediction = t2-t1\n",
    "\n",
    "print(\"Training time: %fs; Prediction time: %fs\" % (time_train, time_prediction))\n",
    "print(classification_report(y_validation, predictions_RF_5_valid))"
   ]
  },
  {
   "cell_type": "code",
   "execution_count": 190,
   "metadata": {},
   "outputs": [
    {
     "data": {
      "image/png": "[encoded data removed]",
      "text/plain": [
       "<Figure size 432x288 with 2 Axes>"
      ]
     },
     "metadata": {
      "needs_background": "light"
     },
     "output_type": "display_data"
    }
   ],
   "source": [
    "mat = confusion_matrix(y_validation, predictions_RF_5_valid)\n",
    "sns.heatmap(mat.T, square = True, annot = True, fmt = 'd')\n",
    "plt.xlabel('True Sentiment')\n",
    "plt.ylabel('Predicted Sentiment');"
   ]
  },
  {
   "cell_type": "code",
   "execution_count": 183,
   "metadata": {},
   "outputs": [],
   "source": [
    "# Predictions on test set"
   ]
  },
  {
   "cell_type": "code",
   "execution_count": 187,
   "metadata": {},
   "outputs": [
    {
     "name": "stdout",
     "output_type": "stream",
     "text": [
      "Prediction time: 0.983874s\n",
      "                    precision    recall  f1-score   support\n",
      "\n",
      "Extremely Negative       0.52      0.36      0.43       592\n",
      "Extremely Positive       0.64      0.43      0.51       599\n",
      "          Negative       0.43      0.38      0.40      1041\n",
      "           Neutral       0.48      0.66      0.56       619\n",
      "          Positive       0.41      0.53      0.46       947\n",
      "\n",
      "          accuracy                           0.47      3798\n",
      "         macro avg       0.50      0.47      0.47      3798\n",
      "      weighted avg       0.48      0.47      0.46      3798\n",
      "\n"
     ]
    }
   ],
   "source": [
    "t1 = time.time()\n",
    "predictions_RF_5_test = model_fit_5.predict(x_test)\n",
    "t2 = time.time()\n",
    "time_prediction = t2-t1\n",
    "\n",
    "print(\"Prediction time: %fs\" % (time_prediction))\n",
    "print(classification_report(y_test, predictions_RF_5_test))"
   ]
  },
  {
   "cell_type": "code",
   "execution_count": 191,
   "metadata": {},
   "outputs": [
    {
     "data": {
      "image/png": "[encoded data removed]",
      "text/plain": [
       "<Figure size 432x288 with 2 Axes>"
      ]
     },
     "metadata": {
      "needs_background": "light"
     },
     "output_type": "display_data"
    }
   ],
   "source": [
    "mat = confusion_matrix(y_test, predictions_RF_5_test)\n",
    "sns.heatmap(mat.T, square = True, annot = True, fmt = 'd')\n",
    "plt.xlabel('True Sentiment')\n",
    "plt.ylabel('Predicted Sentiment');"
   ]
  },
  {
   "cell_type": "code",
   "execution_count": null,
   "metadata": {},
   "outputs": [],
   "source": [
    "# Using only 3 classes of sentiments instead of 5"
   ]
  },
  {
   "cell_type": "code",
   "execution_count": 193,
   "metadata": {},
   "outputs": [
    {
     "name": "stdout",
     "output_type": "stream",
     "text": [
      "Training time: 137.173077s; Prediction time: 3.526648s\n",
      "              precision    recall  f1-score   support\n",
      "\n",
      "    Negative       0.72      0.70      0.71      6146\n",
      "     Neutral       0.61      0.59      0.60      3162\n",
      "    Positive       0.74      0.78      0.76      7155\n",
      "\n",
      "    accuracy                           0.71     16463\n",
      "   macro avg       0.69      0.69      0.69     16463\n",
      "weighted avg       0.71      0.71      0.71     16463\n",
      "\n"
     ]
    }
   ],
   "source": [
    "model_randomForest_3 = RandomForestClassifier(n_estimators = 500, criterion = \"gini\")\n",
    "t0 = time.time()\n",
    "model_fit_3_valid = model_randomForest_3.fit(x_train, new_y_train)\n",
    "t1 = time.time()\n",
    "predictions_RF_3_valid = model_fit_3_valid.predict(x_validation)\n",
    "t2 = time.time()\n",
    "time_train = t1-t0\n",
    "\n",
    "time_prediction = t2-t1\n",
    "\n",
    "print(\"Training time: %fs; Prediction time: %fs\" % (time_train, time_prediction))\n",
    "print(classification_report(new_y_validation, predictions_RF_3_valid ))"
   ]
  },
  {
   "cell_type": "code",
   "execution_count": 197,
   "metadata": {},
   "outputs": [
    {
     "data": {
      "image/png": "[encoded data removed]",
      "text/plain": [
       "<Figure size 432x288 with 2 Axes>"
      ]
     },
     "metadata": {
      "needs_background": "light"
     },
     "output_type": "display_data"
    }
   ],
   "source": [
    "mat = confusion_matrix(new_y_validation, predictions_RF_3_valid)\n",
    "sns.heatmap(mat.T, square = True, annot = True, fmt = 'd')\n",
    "plt.xlabel('True Sentiment')\n",
    "plt.ylabel('Predicted Sentiment');"
   ]
  },
  {
   "cell_type": "code",
   "execution_count": null,
   "metadata": {},
   "outputs": [],
   "source": [
    "# Predictions on 3 classes for the test set"
   ]
  },
  {
   "cell_type": "code",
   "execution_count": 198,
   "metadata": {},
   "outputs": [
    {
     "name": "stdout",
     "output_type": "stream",
     "text": [
      "Prediction time: 0.895975s\n",
      "              precision    recall  f1-score   support\n",
      "\n",
      "    Negative       0.71      0.68      0.70      1633\n",
      "     Neutral       0.54      0.55      0.55       619\n",
      "    Positive       0.71      0.74      0.73      1546\n",
      "\n",
      "    accuracy                           0.68      3798\n",
      "   macro avg       0.65      0.66      0.66      3798\n",
      "weighted avg       0.68      0.68      0.68      3798\n",
      "\n"
     ]
    }
   ],
   "source": [
    "t1 = time.time()\n",
    "predictions_RF_3_test = model_fit_3.predict(x_test)\n",
    "t2 = time.time()\n",
    "time_prediction = t2-t1\n",
    "\n",
    "print(\"Prediction time: %fs\" % (time_prediction))\n",
    "print(classification_report(new_y_test, predictions_RF_3_test))"
   ]
  },
  {
   "cell_type": "code",
   "execution_count": 199,
   "metadata": {},
   "outputs": [
    {
     "data": {
      "image/png": "[encoded data removed]",
      "text/plain": [
       "<Figure size 432x288 with 2 Axes>"
      ]
     },
     "metadata": {
      "needs_background": "light"
     },
     "output_type": "display_data"
    }
   ],
   "source": [
    "mat = confusion_matrix(new_y_test, predictions_RF_3_test)\n",
    "sns.heatmap(mat.T, square = True, annot = True, fmt = 'd')\n",
    "plt.xlabel('True Sentiment')\n",
    "plt.ylabel('Predicted Sentiment');"
   ]
  }
 ],
 "metadata": {
  "kernelspec": {
   "display_name": "Python 3",
   "language": "python",
   "name": "python3"
  },
  "language_info": {
   "codemirror_mode": {
    "name": "ipython",
    "version": 3
   },
   "file_extension": ".py",
   "mimetype": "text/x-python",
   "name": "python",
   "nbconvert_exporter": "python",
   "pygments_lexer": "ipython3",
   "version": "3.8.5"
  }
 },
 "nbformat": 4,
 "nbformat_minor": 4
}
